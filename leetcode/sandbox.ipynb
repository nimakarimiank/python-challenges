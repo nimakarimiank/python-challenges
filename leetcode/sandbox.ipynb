{
 "cells": [
  {
   "cell_type": "code",
   "execution_count": 31,
   "metadata": {},
   "outputs": [],
   "source": [
    "from typing import List\n",
    "\n",
    "def twoSum( nums:List[int], target):\n",
    "        \"\"\"\n",
    "        :type nums: List[int]\n",
    "        :type target: int\n",
    "        :rtype: List[int]\n",
    "        \"\"\"\n",
    "        for i in range(len(nums)):\n",
    "                if i+1 < len(nums):\n",
    "                        first = nums[i]\n",
    "                        try:\n",
    "                                is_remainder = nums[i+1:].index(target - first)\n",
    "                                print(first)\n",
    "                                print(f\"remainder is {target-first} \")\n",
    "                                if is_remainder != None:\n",
    "                                        print(\"inside if\")\n",
    "                                        second_index = nums[i+1:].index(target - first)+i+1\n",
    "                                        return [i, second_index]\n",
    "                        except:\n",
    "                                print(\"index returned nothing\")\n",
    "                                continue                \n",
    "                        \n",
    "\n",
    "                "
   ]
  },
  {
   "cell_type": "code",
   "execution_count": 32,
   "metadata": {},
   "outputs": [
    {
     "name": "stdout",
     "output_type": "stream",
     "text": [
      "index returned nothing\n",
      "2\n",
      "remainder is 4 \n",
      "inside if\n"
     ]
    }
   ],
   "source": [
    "res = twoSum([3,2,4],6)\n",
    "\n"
   ]
  }
 ],
 "metadata": {
  "kernelspec": {
   "display_name": "base",
   "language": "python",
   "name": "python3"
  },
  "language_info": {
   "codemirror_mode": {
    "name": "ipython",
    "version": 3
   },
   "file_extension": ".py",
   "mimetype": "text/x-python",
   "name": "python",
   "nbconvert_exporter": "python",
   "pygments_lexer": "ipython3",
   "version": "3.11.5"
  }
 },
 "nbformat": 4,
 "nbformat_minor": 2
}
