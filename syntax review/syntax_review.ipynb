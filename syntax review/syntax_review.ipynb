{
 "cells": [
  {
   "cell_type": "code",
   "execution_count": 7,
   "metadata": {},
   "outputs": [
    {
     "name": "stdout",
     "output_type": "stream",
     "text": [
      "144\n"
     ]
    }
   ],
   "source": [
    "def make_incrementor(n):\n",
    "    return lambda x: x*n\n",
    "f = make_incrementor(12) # f= lambda x: x*12\n",
    "print(f(12)) # 12*12"
   ]
  },
  {
   "cell_type": "code",
   "execution_count": 25,
   "metadata": {},
   "outputs": [
    {
     "name": "stdout",
     "output_type": "stream",
     "text": [
      "ORIGIN\n"
     ]
    }
   ],
   "source": [
    "class Point:\n",
    "\n",
    "    \"\"\"\n",
    "    THIS IS A DOC STRING\n",
    "    \"\"\"\n",
    "    __match_args__ = ('x','y')\n",
    "    def __init__(self,x,y) -> None:\n",
    "        self.x = x\n",
    "        self.y = y\n",
    "    \n",
    "point = (0,0)\n",
    "match point:\n",
    "    case (0,0):\n",
    "        print('ORIGIN')\n",
    "    case (0,y):\n",
    "        print(f\"Y={y}\")\n",
    "    case (x,0):   \n",
    "        print(f\"X={x}\")\n",
    "    case (x, y):\n",
    "        print(f\"X={x}, Y={y}\")"
   ]
  },
  {
   "cell_type": "code",
   "execution_count": 23,
   "metadata": {},
   "outputs": [],
   "source": [
    "new_point = Point(12,3)"
   ]
  },
  {
   "cell_type": "code",
   "execution_count": 5,
   "metadata": {},
   "outputs": [
    {
     "name": "stdout",
     "output_type": "stream",
     "text": [
      "[1, 3, 5, 7, 9, 11, 13, 15, 17, 19, 21, 23, 25, 27, 29, 31, 33, 35, 37, 39, 41, 43, 45, 47, 49, 51, 53, 55, 57, 59, 61, 63, 65, 67, 69, 71, 73, 75, 77, 79, 81, 83, 85, 87, 89, 91, 93, 95, 97, 99]\n"
     ]
    },
    {
     "data": {
      "text/plain": [
       "6"
      ]
     },
     "execution_count": 5,
     "metadata": {},
     "output_type": "execute_result"
    }
   ],
   "source": [
    "#Lists \n",
    "newList = list([i for i in range(1,100,2)])\n",
    "print(newList)\n",
    "newList.index(13)"
   ]
  },
  {
   "cell_type": "code",
   "execution_count": 6,
   "metadata": {},
   "outputs": [
    {
     "data": {
      "text/plain": [
       "[1,\n",
       " 3,\n",
       " 5,\n",
       " 7,\n",
       " 9,\n",
       " 11,\n",
       " 15,\n",
       " 17,\n",
       " 19,\n",
       " 21,\n",
       " 23,\n",
       " 25,\n",
       " 27,\n",
       " 29,\n",
       " 31,\n",
       " 33,\n",
       " 35,\n",
       " 37,\n",
       " 39,\n",
       " 41,\n",
       " 43,\n",
       " 45,\n",
       " 47,\n",
       " 49,\n",
       " 51,\n",
       " 53,\n",
       " 55,\n",
       " 57,\n",
       " 59,\n",
       " 61,\n",
       " 63,\n",
       " 65,\n",
       " 67,\n",
       " 69,\n",
       " 71,\n",
       " 73,\n",
       " 75,\n",
       " 77,\n",
       " 79,\n",
       " 81,\n",
       " 83,\n",
       " 85,\n",
       " 87,\n",
       " 89,\n",
       " 91,\n",
       " 93,\n",
       " 95,\n",
       " 97,\n",
       " 99]"
      ]
     },
     "execution_count": 6,
     "metadata": {},
     "output_type": "execute_result"
    }
   ],
   "source": [
    "newList.pop(newList.index(13))\n",
    "newList"
   ]
  },
  {
   "cell_type": "code",
   "execution_count": 7,
   "metadata": {},
   "outputs": [],
   "source": [
    "from collections import deque\n",
    "queue = deque(newList)\n",
    "queue.append(999)"
   ]
  },
  {
   "cell_type": "code",
   "execution_count": 8,
   "metadata": {},
   "outputs": [
    {
     "data": {
      "text/plain": [
       "deque([1,\n",
       "       3,\n",
       "       5,\n",
       "       7,\n",
       "       9,\n",
       "       11,\n",
       "       15,\n",
       "       17,\n",
       "       19,\n",
       "       21,\n",
       "       23,\n",
       "       25,\n",
       "       27,\n",
       "       29,\n",
       "       31,\n",
       "       33,\n",
       "       35,\n",
       "       37,\n",
       "       39,\n",
       "       41,\n",
       "       43,\n",
       "       45,\n",
       "       47,\n",
       "       49,\n",
       "       51,\n",
       "       53,\n",
       "       55,\n",
       "       57,\n",
       "       59,\n",
       "       61,\n",
       "       63,\n",
       "       65,\n",
       "       67,\n",
       "       69,\n",
       "       71,\n",
       "       73,\n",
       "       75,\n",
       "       77,\n",
       "       79,\n",
       "       81,\n",
       "       83,\n",
       "       85,\n",
       "       87,\n",
       "       89,\n",
       "       91,\n",
       "       93,\n",
       "       95,\n",
       "       97,\n",
       "       99,\n",
       "       999])"
      ]
     },
     "execution_count": 8,
     "metadata": {},
     "output_type": "execute_result"
    }
   ],
   "source": [
    "queue"
   ]
  },
  {
   "cell_type": "code",
   "execution_count": 12,
   "metadata": {},
   "outputs": [
    {
     "data": {
      "text/plain": [
       "7"
      ]
     },
     "execution_count": 12,
     "metadata": {},
     "output_type": "execute_result"
    }
   ],
   "source": [
    "queue.popleft()"
   ]
  },
  {
   "cell_type": "code",
   "execution_count": 13,
   "metadata": {},
   "outputs": [
    {
     "data": {
      "text/plain": [
       "[16,\n",
       " 88,\n",
       " 376,\n",
       " 1042,\n",
       " 2248,\n",
       " 4156,\n",
       " 6928,\n",
       " 10726,\n",
       " 15712,\n",
       " 22048,\n",
       " 29896,\n",
       " 39418,\n",
       " 50776,\n",
       " 64132,\n",
       " 79648,\n",
       " 97486,\n",
       " 117808,\n",
       " 140776,\n",
       " 166552,\n",
       " 195298,\n",
       " 227176,\n",
       " 262348,\n",
       " 300976,\n",
       " 343222,\n",
       " 389248,\n",
       " 439216,\n",
       " 493288,\n",
       " 551626,\n",
       " 614392,\n",
       " 681748,\n",
       " 753856,\n",
       " 830878,\n",
       " 912976,\n",
       " 1000312,\n",
       " 1093048,\n",
       " 1191346,\n",
       " 1295368,\n",
       " 1405276,\n",
       " 1521232,\n",
       " 1643398,\n",
       " 1771936,\n",
       " 1907008,\n",
       " 2048776,\n",
       " 2197402,\n",
       " 2353048,\n",
       " 2515876,\n",
       " 2686048,\n",
       " 2863726,\n",
       " 3049072,\n",
       " 3242248,\n",
       " 3443416,\n",
       " 3652738,\n",
       " 3870376,\n",
       " 4096492,\n",
       " 4331248,\n",
       " 4574806,\n",
       " 4827328,\n",
       " 5088976,\n",
       " 5359912,\n",
       " 5640298,\n",
       " 5930296,\n",
       " 6230068,\n",
       " 6539776,\n",
       " 6859582,\n",
       " 7189648,\n",
       " 7530136,\n",
       " 7881208]"
      ]
     },
     "execution_count": 13,
     "metadata": {},
     "output_type": "execute_result"
    }
   ],
   "source": [
    "list_comp = list(map(lambda x: x**3+3*x+12, range(1,200,3)))\n",
    "list_comp"
   ]
  },
  {
   "cell_type": "code",
   "execution_count": 16,
   "metadata": {},
   "outputs": [
    {
     "data": {
      "text/plain": [
       "[(1, 3), (1, 6), (1, 9), (5, 3), (5, 6), (5, 9), (10, 3), (10, 6), (10, 9)]"
      ]
     },
     "execution_count": 16,
     "metadata": {},
     "output_type": "execute_result"
    }
   ],
   "source": [
    "list_comp2 = [(x,y) for x in [1,5,10] for y in [3,6,9] if x!=y]\n",
    "list_comp2"
   ]
  },
  {
   "cell_type": "code",
   "execution_count": 18,
   "metadata": {},
   "outputs": [
    {
     "data": {
      "text/plain": [
       "[[1, 4, 7], [2, 5, 8], [3, 6, 9]]"
      ]
     },
     "execution_count": 18,
     "metadata": {},
     "output_type": "execute_result"
    }
   ],
   "source": [
    "matrix=[[1,2,3],[4,5,6],[7,8,9]]\n",
    "nested_list = [[row[i] for row in matrix] for i in range(3)]\n",
    "nested_list"
   ]
  },
  {
   "cell_type": "code",
   "execution_count": 20,
   "metadata": {},
   "outputs": [
    {
     "data": {
      "text/plain": [
       "[([1, 2, 3],), ([4, 5, 6],), ([7, 8, 9],)]"
      ]
     },
     "execution_count": 20,
     "metadata": {},
     "output_type": "execute_result"
    }
   ],
   "source": [
    "list( zip(matrix))"
   ]
  },
  {
   "cell_type": "code",
   "execution_count": 6,
   "metadata": {},
   "outputs": [
    {
     "name": "stdout",
     "output_type": "stream",
     "text": [
      "my dick is  big\n",
      "my dick is  165mm\n",
      "my dick is  big\n"
     ]
    }
   ],
   "source": [
    "x = \"awesome\"\n",
    "def my_func():\n",
    "    global x # using the global variable in global scope \n",
    "    x = \"big\"\n",
    "    print(\"my dick is \",x)\n",
    "    global dick_size # declaring global variable \n",
    "    dick_size = \"165mm\" # initializing global variable\n",
    "my_func()\n",
    "\n",
    "print(\"my dick is \",dick_size)\n",
    "print(\"my dick is \",x)\n"
   ]
  },
  {
   "cell_type": "code",
   "execution_count": 9,
   "metadata": {},
   "outputs": [
    {
     "data": {
      "text/plain": [
       "{'name': 'John', 'age': 36}"
      ]
     },
     "execution_count": 9,
     "metadata": {},
     "output_type": "execute_result"
    }
   ],
   "source": [
    "x = dict(name=\"John\", age=36)\t\n",
    "x"
   ]
  },
  {
   "cell_type": "code",
   "execution_count": 11,
   "metadata": {},
   "outputs": [
    {
     "name": "stdout",
     "output_type": "stream",
     "text": [
      "4470\n"
     ]
    }
   ],
   "source": [
    "import random as rn\n",
    "print(rn.randrange(0,10000,5))\n",
    "\n"
   ]
  },
  {
   "cell_type": "code",
   "execution_count": 12,
   "metadata": {},
   "outputs": [
    {
     "name": "stdout",
     "output_type": "stream",
     "text": [
      "orl\n"
     ]
    }
   ],
   "source": [
    "b = \"Hello, World!\"\n",
    "print(b[-5:-2])"
   ]
  },
  {
   "cell_type": "code",
   "execution_count": 13,
   "metadata": {},
   "outputs": [
    {
     "name": "stdout",
     "output_type": "stream",
     "text": [
      "True\n",
      "True\n"
     ]
    }
   ],
   "source": [
    "print(bool(\"Hello\"))\n",
    "print(bool(15))"
   ]
  },
  {
   "cell_type": "code",
   "execution_count": 16,
   "metadata": {},
   "outputs": [
    {
     "data": {
      "text/plain": [
       "False"
      ]
     },
     "execution_count": 16,
     "metadata": {},
     "output_type": "execute_result"
    }
   ],
   "source": [
    "bool(False)\n",
    "bool(None)\n",
    "bool(0)\n",
    "bool(\"\")\n",
    "bool(())\n",
    "bool([])\n",
    "bool({})"
   ]
  },
  {
   "cell_type": "code",
   "execution_count": 26,
   "metadata": {},
   "outputs": [],
   "source": [
    "import collections\n",
    "Card = collections.namedtuple('Card', ['rank', 'suit'])\n",
    "class FrenchDeck: \n",
    "    ranks = [str(n) for n in range(2, 11)] + list('JQKA') \n",
    "    suits = 'spades diamonds clubs hearts'.split()\n",
    "    def __init__(self):\n",
    "        self._cards = [Card(rank, suit) for suit in self.suits for rank in self.ranks]\n",
    "    def __len__(self):\n",
    "        # if the len returns 0 the bool() will eval to false\n",
    "        return len(self._cards)\n",
    "    def __getitem__(self, position): \n",
    "        return self._cards[position]\n",
    "    def get_cards(self):\n",
    "        print(self._cards)\n"
   ]
  },
  {
   "cell_type": "code",
   "execution_count": 30,
   "metadata": {},
   "outputs": [
    {
     "data": {
      "text/plain": [
       "True"
      ]
     },
     "execution_count": 30,
     "metadata": {},
     "output_type": "execute_result"
    }
   ],
   "source": [
    "card1 = FrenchDeck()\n",
    "bool(card1)\n",
    "\n"
   ]
  },
  {
   "cell_type": "code",
   "execution_count": 34,
   "metadata": {},
   "outputs": [
    {
     "name": "stdout",
     "output_type": "stream",
     "text": [
      "['apple', 'meow meow', 'blackcurrant', 'cherry']\n"
     ]
    }
   ],
   "source": [
    "thislist = [\"apple\", \"banana\", \"cherry\"]\n",
    "thislist[1] = \"blackcurrant\"\n",
    "thislist.insert(1,\"meow meow\")\n",
    "print(thislist)"
   ]
  },
  {
   "cell_type": "code",
   "execution_count": 36,
   "metadata": {},
   "outputs": [
    {
     "name": "stdout",
     "output_type": "stream",
     "text": [
      "['apple', 'watermelon']\n"
     ]
    }
   ],
   "source": [
    "thislist = [\"apple\", \"banana\", \"cherry\"]\n",
    "thislist[1:3] = [\"watermelon\"]\n",
    "print(thislist)"
   ]
  },
  {
   "cell_type": "code",
   "execution_count": 40,
   "metadata": {},
   "outputs": [
    {
     "name": "stdout",
     "output_type": "stream",
     "text": [
      "['banana', 'cherry']\n"
     ]
    }
   ],
   "source": [
    "thislist = [\"apple\", \"banana\", \"cherry\"]\n",
    "del thislist[0]\n",
    "print(thislist)\n"
   ]
  },
  {
   "cell_type": "code",
   "execution_count": 45,
   "metadata": {},
   "outputs": [
    {
     "name": "stdout",
     "output_type": "stream",
     "text": [
      "banana\n",
      "cherry\n"
     ]
    },
    {
     "data": {
      "text/plain": [
       "[None, None]"
      ]
     },
     "execution_count": 45,
     "metadata": {},
     "output_type": "execute_result"
    }
   ],
   "source": [
    "[print(x) for x in thislist]"
   ]
  },
  {
   "cell_type": "code",
   "execution_count": 46,
   "metadata": {},
   "outputs": [
    {
     "name": "stdout",
     "output_type": "stream",
     "text": [
      "[50, 65, 23, 82, 100]\n"
     ]
    }
   ],
   "source": [
    "def myfunc(n):\n",
    "  return abs(n - 50)\n",
    "\n",
    "thislist = [100, 50, 65, 82, 23]\n",
    "thislist.sort(key = myfunc)\n",
    "print(thislist)"
   ]
  },
  {
   "cell_type": "code",
   "execution_count": 39,
   "metadata": {},
   "outputs": [
    {
     "ename": "NameError",
     "evalue": "name 'thislist' is not defined",
     "output_type": "error",
     "traceback": [
      "\u001b[0;31m---------------------------------------------------------------------------\u001b[0m",
      "\u001b[0;31mNameError\u001b[0m                                 Traceback (most recent call last)",
      "Cell \u001b[0;32mIn[39], line 1\u001b[0m\n\u001b[0;32m----> 1\u001b[0m thislist\n",
      "\u001b[0;31mNameError\u001b[0m: name 'thislist' is not defined"
     ]
    }
   ],
   "source": []
  }
 ],
 "metadata": {
  "kernelspec": {
   "display_name": "base",
   "language": "python",
   "name": "python3"
  },
  "language_info": {
   "codemirror_mode": {
    "name": "ipython",
    "version": 3
   },
   "file_extension": ".py",
   "mimetype": "text/x-python",
   "name": "python",
   "nbconvert_exporter": "python",
   "pygments_lexer": "ipython3",
   "version": "3.11.5"
  }
 },
 "nbformat": 4,
 "nbformat_minor": 2
}
