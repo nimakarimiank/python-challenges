{
 "cells": [
  {
   "cell_type": "code",
   "execution_count": 7,
   "metadata": {},
   "outputs": [
    {
     "name": "stdout",
     "output_type": "stream",
     "text": [
      "144\n"
     ]
    }
   ],
   "source": [
    "def make_incrementor(n):\n",
    "    return lambda x: x*n\n",
    "f = make_incrementor(12) # f= lambda x: x*12\n",
    "print(f(12)) # 12*12"
   ]
  },
  {
   "cell_type": "code",
   "execution_count": 25,
   "metadata": {},
   "outputs": [
    {
     "name": "stdout",
     "output_type": "stream",
     "text": [
      "ORIGIN\n"
     ]
    }
   ],
   "source": [
    "class Point:\n",
    "\n",
    "    \"\"\"\n",
    "    THIS IS A DOC STRING\n",
    "    \"\"\"\n",
    "    __match_args__ = ('x','y')\n",
    "    def __init__(self,x,y) -> None:\n",
    "        self.x = x\n",
    "        self.y = y\n",
    "    \n",
    "point = (0,0)\n",
    "match point:\n",
    "    case (0,0):\n",
    "        print('ORIGIN')\n",
    "    case (0,y):\n",
    "        print(f\"Y={y}\")\n",
    "    case (x,0):   \n",
    "        print(f\"X={x}\")\n",
    "    case (x, y):\n",
    "        print(f\"X={x}, Y={y}\")"
   ]
  },
  {
   "cell_type": "code",
   "execution_count": 23,
   "metadata": {},
   "outputs": [],
   "source": [
    "new_point = Point(12,3)"
   ]
  },
  {
   "cell_type": "code",
   "execution_count": null,
   "metadata": {},
   "outputs": [],
   "source": []
  },
  {
   "cell_type": "code",
   "execution_count": null,
   "metadata": {},
   "outputs": [],
   "source": []
  },
  {
   "cell_type": "code",
   "execution_count": null,
   "metadata": {},
   "outputs": [],
   "source": []
  },
  {
   "cell_type": "code",
   "execution_count": null,
   "metadata": {},
   "outputs": [],
   "source": []
  }
 ],
 "metadata": {
  "kernelspec": {
   "display_name": "base",
   "language": "python",
   "name": "python3"
  },
  "language_info": {
   "codemirror_mode": {
    "name": "ipython",
    "version": 3
   },
   "file_extension": ".py",
   "mimetype": "text/x-python",
   "name": "python",
   "nbconvert_exporter": "python",
   "pygments_lexer": "ipython3",
   "version": "3.11.5"
  }
 },
 "nbformat": 4,
 "nbformat_minor": 2
}
